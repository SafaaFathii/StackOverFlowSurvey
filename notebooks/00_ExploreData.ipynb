{
  "nbformat": 4,
  "nbformat_minor": 0,
  "metadata": {
    "colab": {
      "name": "00.ExploreData.ipynb",
      "provenance": []
    },
    "kernelspec": {
      "name": "python3",
      "display_name": "Python 3"
    },
    "language_info": {
      "name": "python"
    }
  },
  "cells": [
    {
      "cell_type": "code",
      "source": [
        "import pandas as pd\n",
        "import numpy as np\n",
        "import matplotlib.pyplot as plt "
      ],
      "metadata": {
        "id": "4Tg_74Dn8gLC"
      },
      "execution_count": 1,
      "outputs": []
    },
    {
      "cell_type": "code",
      "execution_count": 2,
      "metadata": {
        "id": "oMpJn-b57i8W"
      },
      "outputs": [],
      "source": [
        "SURVEY_RESULT_PUBLIC = \"https://raw.githubusercontent.com/Deena-Gergis/e2e_ds_project/batch_2/data/raw/survey_results_public.csv\""
      ]
    },
    {
      "cell_type": "code",
      "source": [
        "df = pd.read_csv(SURVEY_RESULT_PUBLIC)\n",
        "df.head(1)"
      ],
      "metadata": {
        "colab": {
          "base_uri": "https://localhost:8080/",
          "height": 278
        },
        "id": "38qK7XMN8fCi",
        "outputId": "47fd4c0b-e6fe-4eba-eafb-a4ea1608f023"
      },
      "execution_count": 3,
      "outputs": [
        {
          "output_type": "execute_result",
          "data": {
            "text/plain": [
              "   ResponseId                      MainBranch  \\\n",
              "0           1  I am a developer by profession   \n",
              "\n",
              "                                          Employment   Country US_State  \\\n",
              "0  Independent contractor, freelancer, or self-em...  Slovakia      NaN   \n",
              "\n",
              "  UK_Country                                            EdLevel  \\\n",
              "0        NaN  Secondary school (e.g. American high school, G...   \n",
              "\n",
              "      Age1stCode                                          LearnCode YearsCode  \\\n",
              "0  18 - 24 years  Coding Bootcamp;Other online resources (ex: vi...       NaN   \n",
              "\n",
              "   ...              Age Gender Trans                Sexuality  \\\n",
              "0  ...  25-34 years old    Man    No  Straight / Heterosexual   \n",
              "\n",
              "                      Ethnicity      Accessibility       MentalHealth  \\\n",
              "0  White or of European descent  None of the above  None of the above   \n",
              "\n",
              "            SurveyLength SurveyEase ConvertedCompYearly  \n",
              "0  Appropriate in length       Easy             62268.0  \n",
              "\n",
              "[1 rows x 48 columns]"
            ],
            "text/html": [
              "\n",
              "  <div id=\"df-60a8cd2e-815a-4476-8fa9-2a52482dc80b\">\n",
              "    <div class=\"colab-df-container\">\n",
              "      <div>\n",
              "<style scoped>\n",
              "    .dataframe tbody tr th:only-of-type {\n",
              "        vertical-align: middle;\n",
              "    }\n",
              "\n",
              "    .dataframe tbody tr th {\n",
              "        vertical-align: top;\n",
              "    }\n",
              "\n",
              "    .dataframe thead th {\n",
              "        text-align: right;\n",
              "    }\n",
              "</style>\n",
              "<table border=\"1\" class=\"dataframe\">\n",
              "  <thead>\n",
              "    <tr style=\"text-align: right;\">\n",
              "      <th></th>\n",
              "      <th>ResponseId</th>\n",
              "      <th>MainBranch</th>\n",
              "      <th>Employment</th>\n",
              "      <th>Country</th>\n",
              "      <th>US_State</th>\n",
              "      <th>UK_Country</th>\n",
              "      <th>EdLevel</th>\n",
              "      <th>Age1stCode</th>\n",
              "      <th>LearnCode</th>\n",
              "      <th>YearsCode</th>\n",
              "      <th>...</th>\n",
              "      <th>Age</th>\n",
              "      <th>Gender</th>\n",
              "      <th>Trans</th>\n",
              "      <th>Sexuality</th>\n",
              "      <th>Ethnicity</th>\n",
              "      <th>Accessibility</th>\n",
              "      <th>MentalHealth</th>\n",
              "      <th>SurveyLength</th>\n",
              "      <th>SurveyEase</th>\n",
              "      <th>ConvertedCompYearly</th>\n",
              "    </tr>\n",
              "  </thead>\n",
              "  <tbody>\n",
              "    <tr>\n",
              "      <th>0</th>\n",
              "      <td>1</td>\n",
              "      <td>I am a developer by profession</td>\n",
              "      <td>Independent contractor, freelancer, or self-em...</td>\n",
              "      <td>Slovakia</td>\n",
              "      <td>NaN</td>\n",
              "      <td>NaN</td>\n",
              "      <td>Secondary school (e.g. American high school, G...</td>\n",
              "      <td>18 - 24 years</td>\n",
              "      <td>Coding Bootcamp;Other online resources (ex: vi...</td>\n",
              "      <td>NaN</td>\n",
              "      <td>...</td>\n",
              "      <td>25-34 years old</td>\n",
              "      <td>Man</td>\n",
              "      <td>No</td>\n",
              "      <td>Straight / Heterosexual</td>\n",
              "      <td>White or of European descent</td>\n",
              "      <td>None of the above</td>\n",
              "      <td>None of the above</td>\n",
              "      <td>Appropriate in length</td>\n",
              "      <td>Easy</td>\n",
              "      <td>62268.0</td>\n",
              "    </tr>\n",
              "  </tbody>\n",
              "</table>\n",
              "<p>1 rows × 48 columns</p>\n",
              "</div>\n",
              "      <button class=\"colab-df-convert\" onclick=\"convertToInteractive('df-60a8cd2e-815a-4476-8fa9-2a52482dc80b')\"\n",
              "              title=\"Convert this dataframe to an interactive table.\"\n",
              "              style=\"display:none;\">\n",
              "        \n",
              "  <svg xmlns=\"http://www.w3.org/2000/svg\" height=\"24px\"viewBox=\"0 0 24 24\"\n",
              "       width=\"24px\">\n",
              "    <path d=\"M0 0h24v24H0V0z\" fill=\"none\"/>\n",
              "    <path d=\"M18.56 5.44l.94 2.06.94-2.06 2.06-.94-2.06-.94-.94-2.06-.94 2.06-2.06.94zm-11 1L8.5 8.5l.94-2.06 2.06-.94-2.06-.94L8.5 2.5l-.94 2.06-2.06.94zm10 10l.94 2.06.94-2.06 2.06-.94-2.06-.94-.94-2.06-.94 2.06-2.06.94z\"/><path d=\"M17.41 7.96l-1.37-1.37c-.4-.4-.92-.59-1.43-.59-.52 0-1.04.2-1.43.59L10.3 9.45l-7.72 7.72c-.78.78-.78 2.05 0 2.83L4 21.41c.39.39.9.59 1.41.59.51 0 1.02-.2 1.41-.59l7.78-7.78 2.81-2.81c.8-.78.8-2.07 0-2.86zM5.41 20L4 18.59l7.72-7.72 1.47 1.35L5.41 20z\"/>\n",
              "  </svg>\n",
              "      </button>\n",
              "      \n",
              "  <style>\n",
              "    .colab-df-container {\n",
              "      display:flex;\n",
              "      flex-wrap:wrap;\n",
              "      gap: 12px;\n",
              "    }\n",
              "\n",
              "    .colab-df-convert {\n",
              "      background-color: #E8F0FE;\n",
              "      border: none;\n",
              "      border-radius: 50%;\n",
              "      cursor: pointer;\n",
              "      display: none;\n",
              "      fill: #1967D2;\n",
              "      height: 32px;\n",
              "      padding: 0 0 0 0;\n",
              "      width: 32px;\n",
              "    }\n",
              "\n",
              "    .colab-df-convert:hover {\n",
              "      background-color: #E2EBFA;\n",
              "      box-shadow: 0px 1px 2px rgba(60, 64, 67, 0.3), 0px 1px 3px 1px rgba(60, 64, 67, 0.15);\n",
              "      fill: #174EA6;\n",
              "    }\n",
              "\n",
              "    [theme=dark] .colab-df-convert {\n",
              "      background-color: #3B4455;\n",
              "      fill: #D2E3FC;\n",
              "    }\n",
              "\n",
              "    [theme=dark] .colab-df-convert:hover {\n",
              "      background-color: #434B5C;\n",
              "      box-shadow: 0px 1px 3px 1px rgba(0, 0, 0, 0.15);\n",
              "      filter: drop-shadow(0px 1px 2px rgba(0, 0, 0, 0.3));\n",
              "      fill: #FFFFFF;\n",
              "    }\n",
              "  </style>\n",
              "\n",
              "      <script>\n",
              "        const buttonEl =\n",
              "          document.querySelector('#df-60a8cd2e-815a-4476-8fa9-2a52482dc80b button.colab-df-convert');\n",
              "        buttonEl.style.display =\n",
              "          google.colab.kernel.accessAllowed ? 'block' : 'none';\n",
              "\n",
              "        async function convertToInteractive(key) {\n",
              "          const element = document.querySelector('#df-60a8cd2e-815a-4476-8fa9-2a52482dc80b');\n",
              "          const dataTable =\n",
              "            await google.colab.kernel.invokeFunction('convertToInteractive',\n",
              "                                                     [key], {});\n",
              "          if (!dataTable) return;\n",
              "\n",
              "          const docLinkHtml = 'Like what you see? Visit the ' +\n",
              "            '<a target=\"_blank\" href=https://colab.research.google.com/notebooks/data_table.ipynb>data table notebook</a>'\n",
              "            + ' to learn more about interactive tables.';\n",
              "          element.innerHTML = '';\n",
              "          dataTable['output_type'] = 'display_data';\n",
              "          await google.colab.output.renderOutput(dataTable, element);\n",
              "          const docLink = document.createElement('div');\n",
              "          docLink.innerHTML = docLinkHtml;\n",
              "          element.appendChild(docLink);\n",
              "        }\n",
              "      </script>\n",
              "    </div>\n",
              "  </div>\n",
              "  "
            ]
          },
          "metadata": {},
          "execution_count": 3
        }
      ]
    },
    {
      "cell_type": "code",
      "source": [
        "df.shape"
      ],
      "metadata": {
        "colab": {
          "base_uri": "https://localhost:8080/"
        },
        "id": "immM8iKe5vNE",
        "outputId": "245265d0-3522-4a1e-e8f2-29ca8142524e"
      },
      "execution_count": 4,
      "outputs": [
        {
          "output_type": "execute_result",
          "data": {
            "text/plain": [
              "(83439, 48)"
            ]
          },
          "metadata": {},
          "execution_count": 4
        }
      ]
    },
    {
      "cell_type": "code",
      "source": [
        "df.sample(1).iloc[0]"
      ],
      "metadata": {
        "colab": {
          "base_uri": "https://localhost:8080/"
        },
        "id": "XvxNkfjv84aX",
        "outputId": "a01d900a-fca3-4ff5-c5ed-6feb7bb08467"
      },
      "execution_count": 5,
      "outputs": [
        {
          "output_type": "execute_result",
          "data": {
            "text/plain": [
              "ResponseId                                                                  24809\n",
              "MainBranch                                         I am a developer by profession\n",
              "Employment                                                     Employed full-time\n",
              "Country                                                                   Germany\n",
              "US_State                                                                      NaN\n",
              "UK_Country                                                                    NaN\n",
              "EdLevel                              Bachelor’s degree (B.A., B.S., B.Eng., etc.)\n",
              "Age1stCode                                                          11 - 17 years\n",
              "LearnCode                       Other online resources (ex: videos, blogs, etc...\n",
              "YearsCode                                                                      18\n",
              "YearsCodePro                                                                    4\n",
              "DevType                         Developer, front-end;Developer, full-stack;Dev...\n",
              "OrgSize                                                      100 to 499 employees\n",
              "Currency                                                        EUR European Euro\n",
              "CompTotal                                                                  4735.0\n",
              "CompFreq                                                                  Monthly\n",
              "LanguageHaveWorkedWith           C;C#;C++;HTML/CSS;JavaScript;Rust;SQL;TypeScript\n",
              "LanguageWantToWorkWith                  C;C++;HTML/CSS;JavaScript;Rust;TypeScript\n",
              "DatabaseHaveWorkedWith                                  MariaDB;PostgreSQL;SQLite\n",
              "DatabaseWantToWorkWith                                          PostgreSQL;SQLite\n",
              "PlatformHaveWorkedWith                                                        NaN\n",
              "PlatformWantToWorkWith                                                        NaN\n",
              "WebframeHaveWorkedWith                                      Flask;Gatsby;React.js\n",
              "WebframeWantToWorkWith                                      Flask;Gatsby;React.js\n",
              "MiscTechHaveWorkedWith                                                        NaN\n",
              "MiscTechWantToWorkWith                                                        NaN\n",
              "ToolsTechHaveWorkedWith                                                       Git\n",
              "ToolsTechWantToWorkWith                                                       Git\n",
              "NEWCollabToolsHaveWorkedWith                     Notepad++;Vim;Visual Studio Code\n",
              "NEWCollabToolsWantToWorkWith                     Notepad++;Vim;Visual Studio Code\n",
              "OpSys                                                                 Linux-based\n",
              "NEWStuck                        Call a coworker or friend;Visit Stack Overflow...\n",
              "NEWSOSites                                          Stack Overflow;Stack Exchange\n",
              "SOVisitFreq                                                  A few times per week\n",
              "SOAccount                                                                     Yes\n",
              "SOPartFreq                                        A few times per month or weekly\n",
              "SOComm                                                              Yes, somewhat\n",
              "NEWOtherComms                                                                 Yes\n",
              "Age                                                               25-34 years old\n",
              "Gender                                                                        Man\n",
              "Trans                                                                          No\n",
              "Sexuality                                                 Straight / Heterosexual\n",
              "Ethnicity                                            White or of European descent\n",
              "Accessibility                                                   None of the above\n",
              "MentalHealth                                                    None of the above\n",
              "SurveyLength                                                Appropriate in length\n",
              "SurveyEase                                                                   Easy\n",
              "ConvertedCompYearly                                                       61416.0\n",
              "Name: 24808, dtype: object"
            ]
          },
          "metadata": {},
          "execution_count": 5
        }
      ]
    },
    {
      "cell_type": "markdown",
      "source": [
        "Raw data dataTypes"
      ],
      "metadata": {
        "id": "0GNpz7IW-_uh"
      }
    },
    {
      "cell_type": "code",
      "source": [
        "df.info()"
      ],
      "metadata": {
        "colab": {
          "base_uri": "https://localhost:8080/"
        },
        "id": "Vn3gQVgZ9Lsi",
        "outputId": "09ec2fc6-c118-47cb-da53-6eff520abb04"
      },
      "execution_count": 6,
      "outputs": [
        {
          "output_type": "stream",
          "name": "stdout",
          "text": [
            "<class 'pandas.core.frame.DataFrame'>\n",
            "RangeIndex: 83439 entries, 0 to 83438\n",
            "Data columns (total 48 columns):\n",
            " #   Column                        Non-Null Count  Dtype  \n",
            "---  ------                        --------------  -----  \n",
            " 0   ResponseId                    83439 non-null  int64  \n",
            " 1   MainBranch                    83439 non-null  object \n",
            " 2   Employment                    83323 non-null  object \n",
            " 3   Country                       83439 non-null  object \n",
            " 4   US_State                      14920 non-null  object \n",
            " 5   UK_Country                    4418 non-null   object \n",
            " 6   EdLevel                       83126 non-null  object \n",
            " 7   Age1stCode                    83243 non-null  object \n",
            " 8   LearnCode                     82963 non-null  object \n",
            " 9   YearsCode                     81641 non-null  object \n",
            " 10  YearsCodePro                  61216 non-null  object \n",
            " 11  DevType                       66484 non-null  object \n",
            " 12  OrgSize                       60726 non-null  object \n",
            " 13  Currency                      61080 non-null  object \n",
            " 14  CompTotal                     47183 non-null  float64\n",
            " 15  CompFreq                      52150 non-null  object \n",
            " 16  LanguageHaveWorkedWith        82357 non-null  object \n",
            " 17  LanguageWantToWorkWith        76821 non-null  object \n",
            " 18  DatabaseHaveWorkedWith        69546 non-null  object \n",
            " 19  DatabaseWantToWorkWith        58299 non-null  object \n",
            " 20  PlatformHaveWorkedWith        52135 non-null  object \n",
            " 21  PlatformWantToWorkWith        41619 non-null  object \n",
            " 22  WebframeHaveWorkedWith        61707 non-null  object \n",
            " 23  WebframeWantToWorkWith        52095 non-null  object \n",
            " 24  MiscTechHaveWorkedWith        47055 non-null  object \n",
            " 25  MiscTechWantToWorkWith        38021 non-null  object \n",
            " 26  ToolsTechHaveWorkedWith       72537 non-null  object \n",
            " 27  ToolsTechWantToWorkWith       65480 non-null  object \n",
            " 28  NEWCollabToolsHaveWorkedWith  81234 non-null  object \n",
            " 29  NEWCollabToolsWantToWorkWith  73022 non-null  object \n",
            " 30  OpSys                         83294 non-null  object \n",
            " 31  NEWStuck                      83052 non-null  object \n",
            " 32  NEWSOSites                    83171 non-null  object \n",
            " 33  SOVisitFreq                   82413 non-null  object \n",
            " 34  SOAccount                     82525 non-null  object \n",
            " 35  SOPartFreq                    67553 non-null  object \n",
            " 36  SOComm                        82319 non-null  object \n",
            " 37  NEWOtherComms                 82828 non-null  object \n",
            " 38  Age                           82407 non-null  object \n",
            " 39  Gender                        82286 non-null  object \n",
            " 40  Trans                         80678 non-null  object \n",
            " 41  Sexuality                     73366 non-null  object \n",
            " 42  Ethnicity                     79464 non-null  object \n",
            " 43  Accessibility                 77603 non-null  object \n",
            " 44  MentalHealth                  76920 non-null  object \n",
            " 45  SurveyLength                  81711 non-null  object \n",
            " 46  SurveyEase                    81948 non-null  object \n",
            " 47  ConvertedCompYearly           46844 non-null  float64\n",
            "dtypes: float64(2), int64(1), object(45)\n",
            "memory usage: 30.6+ MB\n"
          ]
        }
      ]
    },
    {
      "cell_type": "markdown",
      "source": [
        "Describe Raw Data"
      ],
      "metadata": {
        "id": "9-lcLneb-5l8"
      }
    },
    {
      "cell_type": "code",
      "source": [
        "df.describe()"
      ],
      "metadata": {
        "colab": {
          "base_uri": "https://localhost:8080/",
          "height": 300
        },
        "id": "eN0wAvyF-cEB",
        "outputId": "7a5cbc7c-cac3-471b-a135-7a9bee9b6151"
      },
      "execution_count": 7,
      "outputs": [
        {
          "output_type": "execute_result",
          "data": {
            "text/plain": [
              "         ResponseId     CompTotal  ConvertedCompYearly\n",
              "count  83439.000000  4.718300e+04         4.684400e+04\n",
              "mean   41720.000000  2.119407e+69         1.184262e+05\n",
              "std    24086.908893  4.603702e+71         5.272944e+05\n",
              "min        1.000000  0.000000e+00         1.000000e+00\n",
              "25%    20860.500000  1.600000e+04         2.702500e+04\n",
              "50%    41720.000000  6.700000e+04         5.621100e+04\n",
              "75%    62579.500000  1.400000e+05         1.000000e+05\n",
              "max    83439.000000  1.000000e+74         4.524131e+07"
            ],
            "text/html": [
              "\n",
              "  <div id=\"df-5a0c557b-42e5-4715-a326-43a7c0acedc6\">\n",
              "    <div class=\"colab-df-container\">\n",
              "      <div>\n",
              "<style scoped>\n",
              "    .dataframe tbody tr th:only-of-type {\n",
              "        vertical-align: middle;\n",
              "    }\n",
              "\n",
              "    .dataframe tbody tr th {\n",
              "        vertical-align: top;\n",
              "    }\n",
              "\n",
              "    .dataframe thead th {\n",
              "        text-align: right;\n",
              "    }\n",
              "</style>\n",
              "<table border=\"1\" class=\"dataframe\">\n",
              "  <thead>\n",
              "    <tr style=\"text-align: right;\">\n",
              "      <th></th>\n",
              "      <th>ResponseId</th>\n",
              "      <th>CompTotal</th>\n",
              "      <th>ConvertedCompYearly</th>\n",
              "    </tr>\n",
              "  </thead>\n",
              "  <tbody>\n",
              "    <tr>\n",
              "      <th>count</th>\n",
              "      <td>83439.000000</td>\n",
              "      <td>4.718300e+04</td>\n",
              "      <td>4.684400e+04</td>\n",
              "    </tr>\n",
              "    <tr>\n",
              "      <th>mean</th>\n",
              "      <td>41720.000000</td>\n",
              "      <td>2.119407e+69</td>\n",
              "      <td>1.184262e+05</td>\n",
              "    </tr>\n",
              "    <tr>\n",
              "      <th>std</th>\n",
              "      <td>24086.908893</td>\n",
              "      <td>4.603702e+71</td>\n",
              "      <td>5.272944e+05</td>\n",
              "    </tr>\n",
              "    <tr>\n",
              "      <th>min</th>\n",
              "      <td>1.000000</td>\n",
              "      <td>0.000000e+00</td>\n",
              "      <td>1.000000e+00</td>\n",
              "    </tr>\n",
              "    <tr>\n",
              "      <th>25%</th>\n",
              "      <td>20860.500000</td>\n",
              "      <td>1.600000e+04</td>\n",
              "      <td>2.702500e+04</td>\n",
              "    </tr>\n",
              "    <tr>\n",
              "      <th>50%</th>\n",
              "      <td>41720.000000</td>\n",
              "      <td>6.700000e+04</td>\n",
              "      <td>5.621100e+04</td>\n",
              "    </tr>\n",
              "    <tr>\n",
              "      <th>75%</th>\n",
              "      <td>62579.500000</td>\n",
              "      <td>1.400000e+05</td>\n",
              "      <td>1.000000e+05</td>\n",
              "    </tr>\n",
              "    <tr>\n",
              "      <th>max</th>\n",
              "      <td>83439.000000</td>\n",
              "      <td>1.000000e+74</td>\n",
              "      <td>4.524131e+07</td>\n",
              "    </tr>\n",
              "  </tbody>\n",
              "</table>\n",
              "</div>\n",
              "      <button class=\"colab-df-convert\" onclick=\"convertToInteractive('df-5a0c557b-42e5-4715-a326-43a7c0acedc6')\"\n",
              "              title=\"Convert this dataframe to an interactive table.\"\n",
              "              style=\"display:none;\">\n",
              "        \n",
              "  <svg xmlns=\"http://www.w3.org/2000/svg\" height=\"24px\"viewBox=\"0 0 24 24\"\n",
              "       width=\"24px\">\n",
              "    <path d=\"M0 0h24v24H0V0z\" fill=\"none\"/>\n",
              "    <path d=\"M18.56 5.44l.94 2.06.94-2.06 2.06-.94-2.06-.94-.94-2.06-.94 2.06-2.06.94zm-11 1L8.5 8.5l.94-2.06 2.06-.94-2.06-.94L8.5 2.5l-.94 2.06-2.06.94zm10 10l.94 2.06.94-2.06 2.06-.94-2.06-.94-.94-2.06-.94 2.06-2.06.94z\"/><path d=\"M17.41 7.96l-1.37-1.37c-.4-.4-.92-.59-1.43-.59-.52 0-1.04.2-1.43.59L10.3 9.45l-7.72 7.72c-.78.78-.78 2.05 0 2.83L4 21.41c.39.39.9.59 1.41.59.51 0 1.02-.2 1.41-.59l7.78-7.78 2.81-2.81c.8-.78.8-2.07 0-2.86zM5.41 20L4 18.59l7.72-7.72 1.47 1.35L5.41 20z\"/>\n",
              "  </svg>\n",
              "      </button>\n",
              "      \n",
              "  <style>\n",
              "    .colab-df-container {\n",
              "      display:flex;\n",
              "      flex-wrap:wrap;\n",
              "      gap: 12px;\n",
              "    }\n",
              "\n",
              "    .colab-df-convert {\n",
              "      background-color: #E8F0FE;\n",
              "      border: none;\n",
              "      border-radius: 50%;\n",
              "      cursor: pointer;\n",
              "      display: none;\n",
              "      fill: #1967D2;\n",
              "      height: 32px;\n",
              "      padding: 0 0 0 0;\n",
              "      width: 32px;\n",
              "    }\n",
              "\n",
              "    .colab-df-convert:hover {\n",
              "      background-color: #E2EBFA;\n",
              "      box-shadow: 0px 1px 2px rgba(60, 64, 67, 0.3), 0px 1px 3px 1px rgba(60, 64, 67, 0.15);\n",
              "      fill: #174EA6;\n",
              "    }\n",
              "\n",
              "    [theme=dark] .colab-df-convert {\n",
              "      background-color: #3B4455;\n",
              "      fill: #D2E3FC;\n",
              "    }\n",
              "\n",
              "    [theme=dark] .colab-df-convert:hover {\n",
              "      background-color: #434B5C;\n",
              "      box-shadow: 0px 1px 3px 1px rgba(0, 0, 0, 0.15);\n",
              "      filter: drop-shadow(0px 1px 2px rgba(0, 0, 0, 0.3));\n",
              "      fill: #FFFFFF;\n",
              "    }\n",
              "  </style>\n",
              "\n",
              "      <script>\n",
              "        const buttonEl =\n",
              "          document.querySelector('#df-5a0c557b-42e5-4715-a326-43a7c0acedc6 button.colab-df-convert');\n",
              "        buttonEl.style.display =\n",
              "          google.colab.kernel.accessAllowed ? 'block' : 'none';\n",
              "\n",
              "        async function convertToInteractive(key) {\n",
              "          const element = document.querySelector('#df-5a0c557b-42e5-4715-a326-43a7c0acedc6');\n",
              "          const dataTable =\n",
              "            await google.colab.kernel.invokeFunction('convertToInteractive',\n",
              "                                                     [key], {});\n",
              "          if (!dataTable) return;\n",
              "\n",
              "          const docLinkHtml = 'Like what you see? Visit the ' +\n",
              "            '<a target=\"_blank\" href=https://colab.research.google.com/notebooks/data_table.ipynb>data table notebook</a>'\n",
              "            + ' to learn more about interactive tables.';\n",
              "          element.innerHTML = '';\n",
              "          dataTable['output_type'] = 'display_data';\n",
              "          await google.colab.output.renderOutput(dataTable, element);\n",
              "          const docLink = document.createElement('div');\n",
              "          docLink.innerHTML = docLinkHtml;\n",
              "          element.appendChild(docLink);\n",
              "        }\n",
              "      </script>\n",
              "    </div>\n",
              "  </div>\n",
              "  "
            ]
          },
          "metadata": {},
          "execution_count": 7
        }
      ]
    },
    {
      "cell_type": "markdown",
      "source": [
        "Why these columns have datatype \"Object\"?"
      ],
      "metadata": {
        "id": "ALLtK-i1-tLR"
      }
    },
    {
      "cell_type": "code",
      "source": [
        "questionable_cols = ['YearsCodePro', 'YearsCode']\n",
        "for col in questionable_cols: \n",
        "    print(col)\n",
        "    print(df[col].unique().tolist())\n",
        "    print('--------------------------')\n",
        "    print()"
      ],
      "metadata": {
        "colab": {
          "base_uri": "https://localhost:8080/"
        },
        "id": "I52Vs_oe-k88",
        "outputId": "2a8721b9-59dd-4bcd-eb34-4dd2a8c4f740"
      },
      "execution_count": 8,
      "outputs": [
        {
          "output_type": "stream",
          "name": "stdout",
          "text": [
            "YearsCodePro\n",
            "[nan, '10', '4', '5', '6', '2', '30', '9', '18', '12', '21', '1', '16', 'Less than 1 year', '15', '3', '35', '7', '8', '17', '14', '26', '25', '20', '50', '34', '11', '24', '22', '13', '31', '23', '39', '41', '27', '28', '19', '33', 'More than 50 years', '37', '29', '32', '43', '40', '38', '45', '42', '46', '36', '44', '47', '48', '49']\n",
            "--------------------------\n",
            "\n",
            "YearsCode\n",
            "[nan, '7', '17', '3', '4', '6', '16', '12', '15', '10', '40', '9', '26', '14', '39', '20', '8', '19', '5', 'Less than 1 year', '22', '2', '1', '34', '21', '13', '25', '24', '30', '31', '18', '38', 'More than 50 years', '27', '41', '42', '35', '23', '28', '11', '37', '44', '43', '36', '33', '45', '29', '50', '46', '32', '47', '49', '48']\n",
            "--------------------------\n",
            "\n"
          ]
        }
      ]
    },
    {
      "cell_type": "markdown",
      "source": [
        "Number of unique values in each column"
      ],
      "metadata": {
        "id": "0tUxpm9k7Df_"
      }
    },
    {
      "cell_type": "code",
      "source": [
        "df.nunique()"
      ],
      "metadata": {
        "id": "hVomUeBn-qCT",
        "colab": {
          "base_uri": "https://localhost:8080/"
        },
        "outputId": "b8092c6d-c7a9-4cbc-a9ce-017710260237"
      },
      "execution_count": 9,
      "outputs": [
        {
          "output_type": "execute_result",
          "data": {
            "text/plain": [
              "ResponseId                      83439\n",
              "MainBranch                          6\n",
              "Employment                          9\n",
              "Country                           181\n",
              "US_State                           55\n",
              "UK_Country                          4\n",
              "EdLevel                             9\n",
              "Age1stCode                          9\n",
              "LearnCode                         458\n",
              "YearsCode                          52\n",
              "YearsCodePro                       52\n",
              "DevType                          8626\n",
              "OrgSize                            10\n",
              "Currency                          146\n",
              "CompTotal                        3752\n",
              "CompFreq                            3\n",
              "LanguageHaveWorkedWith          28690\n",
              "LanguageWantToWorkWith          27545\n",
              "DatabaseHaveWorkedWith           3072\n",
              "DatabaseWantToWorkWith           3137\n",
              "PlatformHaveWorkedWith            118\n",
              "PlatformWantToWorkWith            126\n",
              "WebframeHaveWorkedWith           5402\n",
              "WebframeWantToWorkWith           5113\n",
              "MiscTechHaveWorkedWith           1387\n",
              "MiscTechWantToWorkWith           1684\n",
              "ToolsTechHaveWorkedWith           902\n",
              "ToolsTechWantToWorkWith          1403\n",
              "NEWCollabToolsHaveWorkedWith    12100\n",
              "NEWCollabToolsWantToWorkWith     7026\n",
              "OpSys                               6\n",
              "NEWStuck                         1279\n",
              "NEWSOSites                          8\n",
              "SOVisitFreq                         5\n",
              "SOAccount                           3\n",
              "SOPartFreq                          6\n",
              "SOComm                              6\n",
              "NEWOtherComms                       2\n",
              "Age                                 8\n",
              "Gender                             16\n",
              "Trans                               4\n",
              "Sexuality                          30\n",
              "Ethnicity                         372\n",
              "Accessibility                      31\n",
              "MentalHealth                       33\n",
              "SurveyLength                        3\n",
              "SurveyEase                          3\n",
              "ConvertedCompYearly              8735\n",
              "dtype: int64"
            ]
          },
          "metadata": {},
          "execution_count": 9
        }
      ]
    },
    {
      "cell_type": "markdown",
      "source": [
        "Percentage of null values in each column"
      ],
      "metadata": {
        "id": "vNID9a3h69FC"
      }
    },
    {
      "cell_type": "code",
      "source": [
        "for col in df.columns: \n",
        "    print(f\"{col}:\\t{df[col].isnull().mean() * 100:.2f}%\")"
      ],
      "metadata": {
        "colab": {
          "base_uri": "https://localhost:8080/"
        },
        "id": "xYVrUJKu3lBg",
        "outputId": "0cf59cc8-edc3-4393-e5a8-8f91c422f8ce"
      },
      "execution_count": 10,
      "outputs": [
        {
          "output_type": "stream",
          "name": "stdout",
          "text": [
            "ResponseId:\t0.00%\n",
            "MainBranch:\t0.00%\n",
            "Employment:\t0.14%\n",
            "Country:\t0.00%\n",
            "US_State:\t82.12%\n",
            "UK_Country:\t94.71%\n",
            "EdLevel:\t0.38%\n",
            "Age1stCode:\t0.23%\n",
            "LearnCode:\t0.57%\n",
            "YearsCode:\t2.15%\n",
            "YearsCodePro:\t26.63%\n",
            "DevType:\t20.32%\n",
            "OrgSize:\t27.22%\n",
            "Currency:\t26.80%\n",
            "CompTotal:\t43.45%\n",
            "CompFreq:\t37.50%\n",
            "LanguageHaveWorkedWith:\t1.30%\n",
            "LanguageWantToWorkWith:\t7.93%\n",
            "DatabaseHaveWorkedWith:\t16.65%\n",
            "DatabaseWantToWorkWith:\t30.13%\n",
            "PlatformHaveWorkedWith:\t37.52%\n",
            "PlatformWantToWorkWith:\t50.12%\n",
            "WebframeHaveWorkedWith:\t26.05%\n",
            "WebframeWantToWorkWith:\t37.57%\n",
            "MiscTechHaveWorkedWith:\t43.61%\n",
            "MiscTechWantToWorkWith:\t54.43%\n",
            "ToolsTechHaveWorkedWith:\t13.07%\n",
            "ToolsTechWantToWorkWith:\t21.52%\n",
            "NEWCollabToolsHaveWorkedWith:\t2.64%\n",
            "NEWCollabToolsWantToWorkWith:\t12.48%\n",
            "OpSys:\t0.17%\n",
            "NEWStuck:\t0.46%\n",
            "NEWSOSites:\t0.32%\n",
            "SOVisitFreq:\t1.23%\n",
            "SOAccount:\t1.10%\n",
            "SOPartFreq:\t19.04%\n",
            "SOComm:\t1.34%\n",
            "NEWOtherComms:\t0.73%\n",
            "Age:\t1.24%\n",
            "Gender:\t1.38%\n",
            "Trans:\t3.31%\n",
            "Sexuality:\t12.07%\n",
            "Ethnicity:\t4.76%\n",
            "Accessibility:\t6.99%\n",
            "MentalHealth:\t7.81%\n",
            "SurveyLength:\t2.07%\n",
            "SurveyEase:\t1.79%\n",
            "ConvertedCompYearly:\t43.86%\n"
          ]
        }
      ]
    },
    {
      "cell_type": "code",
      "source": [
        "df[\"Gender\"].value_counts()"
      ],
      "metadata": {
        "colab": {
          "base_uri": "https://localhost:8080/"
        },
        "id": "eOC1HX_J4ISZ",
        "outputId": "d6c1c08b-55b3-4e94-d46b-2551a1d26489"
      },
      "execution_count": 11,
      "outputs": [
        {
          "output_type": "execute_result",
          "data": {
            "text/plain": [
              "Man                                                                                   74817\n",
              "Woman                                                                                  4120\n",
              "Prefer not to say                                                                      1442\n",
              "Non-binary, genderqueer, or gender non-conforming                                       690\n",
              "Or, in your own words:                                                                  413\n",
              "Man;Or, in your own words:                                                              268\n",
              "Man;Non-binary, genderqueer, or gender non-conforming                                   252\n",
              "Woman;Non-binary, genderqueer, or gender non-conforming                                 147\n",
              "Man;Woman                                                                                41\n",
              "Non-binary, genderqueer, or gender non-conforming;Or, in your own words:                 21\n",
              "Man;Woman;Non-binary, genderqueer, or gender non-conforming                              21\n",
              "Man;Woman;Non-binary, genderqueer, or gender non-conforming;Or, in your own words:       17\n",
              "Woman;Or, in your own words:                                                             16\n",
              "Man;Non-binary, genderqueer, or gender non-conforming;Or, in your own words:             11\n",
              "Woman;Non-binary, genderqueer, or gender non-conforming;Or, in your own words:            9\n",
              "Man;Woman;Or, in your own words:                                                          1\n",
              "Name: Gender, dtype: int64"
            ]
          },
          "metadata": {},
          "execution_count": 11
        }
      ]
    },
    {
      "cell_type": "code",
      "source": [
        ""
      ],
      "metadata": {
        "id": "D6LTY4Ag5ZUb"
      },
      "execution_count": 11,
      "outputs": []
    }
  ]
}