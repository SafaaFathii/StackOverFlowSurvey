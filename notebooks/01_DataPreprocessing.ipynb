{
  "nbformat": 4,
  "nbformat_minor": 0,
  "metadata": {
    "colab": {
      "name": "01.DataPreprocessing.ipynb",
      "provenance": []
    },
    "kernelspec": {
      "name": "python3",
      "display_name": "Python 3"
    },
    "language_info": {
      "name": "python"
    }
  },
  "cells": [
    {
      "cell_type": "code",
      "source": [
        "import pandas as pd\n",
        "import numpy as np\n",
        "import matplotlib.pyplot as plt \n",
        "import pickle\n",
        "import os"
      ],
      "metadata": {
        "id": "VbvJauSIBgK1"
      },
      "execution_count": 29,
      "outputs": []
    },
    {
      "cell_type": "code",
      "execution_count": 20,
      "metadata": {
        "id": "ERbU6qTdA1TU"
      },
      "outputs": [],
      "source": [
        "EXPORT_PATH = r\"C:\\Users\\fathy\\StackOverFlowSurvay\\data\\processed\\1_preprocessed_df.pkl\"\n",
        "SURVEY_RESULT_PUBLIC = \"https://raw.githubusercontent.com/Deena-Gergis/e2e_ds_project/batch_2/data/raw/survey_results_public.csv\"\n",
        "REPLACE_DICT = {\n",
        "    'YearsCodePro': {'Less than 1 year': 0, 'More than 50 years': 51}, \n",
        "    'YearsCode':    {'Less than 1 year': 0, 'More than 50 years': 51}}"
      ]
    },
    {
      "cell_type": "code",
      "source": [
        "def split_answers(data_series, delimiter=\";\"):\n",
        "    \"\"\" \n",
        "    Split multiple answers in a single string \n",
        "    to a list of single strings each represnting a single answers \n",
        "\n",
        "    Parameters:\n",
        "    * data_series (pd.Series): String series with answers \n",
        "    * delimiter (string): Another decimal integer \n",
        "                          Defaults to \";\"\n",
        "\n",
        "    Returns: (pd.Series): If column contains \n",
        "    \"\"\"\n",
        "    \n",
        "    # Sub functions \n",
        "    def is_splittable(pd_series, delimiter):\n",
        "        \"\"\" Check if results multiple should be splitted - Returns boolean \"\"\"    \n",
        "        return pd_series.str.contains(delimiter)\n",
        "    \n",
        "    def split_answer(pd_series, delimiter): \n",
        "        \"\"\"Function to split single answer\"\"\"\n",
        "        return pd_series.str.split(delimiter)\n",
        "    \n",
        "    # --------------------\n",
        "    \n",
        "    # Check if multiple answers exist - if none: return original \n",
        "    splittable_values = is_splittable(data_series, delimiter)\n",
        "    if not splittable_values.any():\n",
        "        return data_series\n",
        "    \n",
        "    # Else, split each value to a list \n",
        "    modified_series = split_answer(data_series, delimiter)    \n",
        "    \n",
        "    # Replace NAs with empty lists \n",
        "    mask_null = modified_series.isnull()\n",
        "    modified_series.loc[mask_null] = modified_series.loc[mask_null].apply(lambda x: [])\n",
        "    \n",
        "    return modified_series"
      ],
      "metadata": {
        "id": "pgN5w5WuBXWO"
      },
      "execution_count": 21,
      "outputs": []
    },
    {
      "cell_type": "code",
      "source": [
        "raw_df = pd.read_csv(SURVEY_RESULT_PUBLIC)\n",
        "df = raw_df.copy()"
      ],
      "metadata": {
        "id": "c4KcYhbDBwLa"
      },
      "execution_count": 22,
      "outputs": []
    },
    {
      "cell_type": "code",
      "source": [
        "for col, replacement in REPLACE_DICT.items():\n",
        "    df[col] = df[col].replace(replacement).astype(np.float32)"
      ],
      "metadata": {
        "id": "MfaBbv4pB2eR"
      },
      "execution_count": 23,
      "outputs": []
    },
    {
      "cell_type": "code",
      "source": [
        "object_cols = df.select_dtypes(include='object').columns.tolist()\n",
        "for col in object_cols:\n",
        "    df[col] = split_answers(df[col])"
      ],
      "metadata": {
        "id": "bSYN5HALCR4i"
      },
      "execution_count": 24,
      "outputs": []
    },
    {
      "cell_type": "code",
      "source": [
        "i = df.sample(1).index[0]\n",
        "print(raw_df['LanguageHaveWorkedWith'].iloc[i])\n",
        "print(df['LanguageHaveWorkedWith'].iloc[i])"
      ],
      "metadata": {
        "colab": {
          "base_uri": "https://localhost:8080/"
        },
        "id": "rkwXiOqSCU7R",
        "outputId": "e4538089-28f1-4358-eb7a-36817a9f07dd"
      },
      "execution_count": 25,
      "outputs": [
        {
          "output_type": "stream",
          "name": "stdout",
          "text": [
            "C;C++;HTML/CSS;JavaScript;TypeScript\n",
            "['C', 'C++', 'HTML/CSS', 'JavaScript', 'TypeScript']\n"
          ]
        }
      ]
    },
    {
      "cell_type": "code",
      "source": [
        "i = df.sample(1).index[0]\n",
        "print(raw_df['DevType'].iloc[i])\n",
        "print(df['DevType'].iloc[i])"
      ],
      "metadata": {
        "colab": {
          "base_uri": "https://localhost:8080/"
        },
        "id": "qG9ppGv9CZxK",
        "outputId": "6aba8aac-f5e7-4bc1-892f-e8dba7556d1f"
      },
      "execution_count": 26,
      "outputs": [
        {
          "output_type": "stream",
          "name": "stdout",
          "text": [
            "Developer, desktop or enterprise applications\n",
            "['Developer, desktop or enterprise applications']\n"
          ]
        }
      ]
    },
    {
      "cell_type": "code",
      "source": [
        "i = df.sample(1).index[0]\n",
        "print(raw_df['YearsCodePro'].iloc[i])\n",
        "print(df['YearsCodePro'].iloc[i])"
      ],
      "metadata": {
        "colab": {
          "base_uri": "https://localhost:8080/"
        },
        "id": "CyyZb81aCsqh",
        "outputId": "fae0f87f-43e3-4014-cdac-41458a1f37f3"
      },
      "execution_count": 27,
      "outputs": [
        {
          "output_type": "stream",
          "name": "stdout",
          "text": [
            "4\n",
            "4.0\n"
          ]
        }
      ]
    },
    {
      "cell_type": "code",
      "source": [
        "df.to_pickle(EXPORT_PATH)"
      ],
      "metadata": {
        "id": "5lYsIK76Cxpd"
      },
      "execution_count": 28,
      "outputs": []
    },
    {
      "cell_type": "code",
      "source": [
        "if not os.path.isfile(EXPORT_PATH):\n",
        "   with open(EXPORT_PATH,'wb') as file:\n",
        "       pickle.dump(df, file)\n",
        "   file.close()"
      ],
      "metadata": {
        "id": "niAU6V3zC0yD"
      },
      "execution_count": 30,
      "outputs": []
    },
    {
      "cell_type": "code",
      "source": [
        ""
      ],
      "metadata": {
        "id": "j7DnKid5Ey6J"
      },
      "execution_count": null,
      "outputs": []
    }
  ]
}